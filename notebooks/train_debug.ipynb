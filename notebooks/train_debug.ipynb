{
 "cells": [
  {
   "cell_type": "code",
   "execution_count": 1,
   "metadata": {},
   "outputs": [],
   "source": [
    "import sys\n",
    "sys.path.insert(0,\"../\")\n",
    "\n",
    "\n",
    "from src.utils import get_params_config\n",
    "from src.train import RandomForestConfig, Trainer\n"
   ]
  },
  {
   "cell_type": "code",
   "execution_count": 2,
   "metadata": {},
   "outputs": [
    {
     "name": "stdout",
     "output_type": "stream",
     "text": [
      "2024-04-26 17:45:17,263 — src.train — INFO — Initiating Trainer-class\n",
      "2024-04-26 17:45:17,264 — src.train — INFO — Load/formate train dataset start\n",
      "2024-04-26 17:45:17,268 — src.train — INFO — Train dataset size: (1097, 5)\n",
      "2024-04-26 17:45:17,271 — src.train — INFO — Load/formate train dataset end\n",
      "2024-04-26 17:45:17,271 — src.train — INFO — Model training start\n",
      "2024-04-26 17:45:17,426 — src.train — INFO — Model training end\n",
      "2024-04-26 17:45:17,429 — src.train — INFO — Saving model start\n",
      "2024-04-26 17:45:17,496 — src.train — INFO — Saving model end\n"
     ]
    },
    {
     "name": "stderr",
     "output_type": "stream",
     "text": [
      "[Parallel(n_jobs=2)]: Using backend ThreadingBackend with 2 concurrent workers.\n",
      "[Parallel(n_jobs=2)]: Done  46 tasks      | elapsed:    0.1s\n",
      "[Parallel(n_jobs=2)]: Done 100 out of 100 | elapsed:    0.1s finished\n"
     ]
    }
   ],
   "source": [
    "PARAMS_YAML_PATH = \"../params.yaml\"\n",
    "TRAIN_PATH = '../data/train_part.csv'\n",
    "MODEL_SAVE_PATH = '../experiments/model.pkl'\n",
    "\n",
    "params = get_params_config(params_path=PARAMS_YAML_PATH)\n",
    "rf_config = RandomForestConfig.from_dict(params.train.to_dict())\n",
    "\n",
    "trainer = Trainer(rf_config)\n",
    "trainer.load_data(TRAIN_PATH)\n",
    "\n",
    "trainer.train(verbose=params.train.verbose, n_jobs=params.train.n_jobs)\n",
    "trainer.save(MODEL_SAVE_PATH)"
   ]
  },
  {
   "cell_type": "code",
   "execution_count": null,
   "metadata": {},
   "outputs": [],
   "source": []
  },
  {
   "cell_type": "code",
   "execution_count": null,
   "metadata": {},
   "outputs": [],
   "source": []
  }
 ],
 "metadata": {
  "kernelspec": {
   "display_name": "venv",
   "language": "python",
   "name": "python3"
  },
  "language_info": {
   "codemirror_mode": {
    "name": "ipython",
    "version": 3
   },
   "file_extension": ".py",
   "mimetype": "text/x-python",
   "name": "python",
   "nbconvert_exporter": "python",
   "pygments_lexer": "ipython3",
   "version": "3.10.12"
  }
 },
 "nbformat": 4,
 "nbformat_minor": 2
}
